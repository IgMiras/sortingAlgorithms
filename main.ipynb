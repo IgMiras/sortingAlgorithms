{
 "cells": [
  {
   "cell_type": "markdown",
   "metadata": {},
   "source": [
    "# Trabalho Prático I\n",
    "\n",
    "### Integrantes do Grupo:\n",
    "- Igor Mendes Domingues Miras\n",
    "- Gustavo Santos Gonçalves"
   ]
  },
  {
   "cell_type": "markdown",
   "metadata": {},
   "source": [
    "### Bibliotecas Necessárias:\n",
    "- Matplotlib\n",
    "- Numpy\n"
   ]
  }
 ],
 "metadata": {
  "language_info": {
   "name": "python"
  }
 },
 "nbformat": 4,
 "nbformat_minor": 2
}
